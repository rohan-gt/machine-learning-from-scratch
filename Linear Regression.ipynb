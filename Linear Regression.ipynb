{
  "nbformat": 4,
  "nbformat_minor": 0,
  "metadata": {
    "colab": {
      "name": "Linear Regression.ipynb",
      "provenance": [],
      "collapsed_sections": []
    },
    "kernelspec": {
      "name": "python3",
      "display_name": "Python 3"
    }
  },
  "cells": [
    {
      "cell_type": "markdown",
      "metadata": {
        "id": "-xsQDwp4_MVf"
      },
      "source": [
        "## Linear Regression"
      ]
    },
    {
      "cell_type": "code",
      "metadata": {
        "id": "ohroZSwK_epQ"
      },
      "source": [
        "# Import libraries\n",
        "import numpy as np\n",
        "import pandas as pd\n",
        "  \n",
        "# Linear Regression \n",
        "class LinearRegressionFromScratch: \n",
        "      \n",
        "    def __init__(self, n_iterations=int(1e6), learning_rate=1e-6):\n",
        "        \"\"\"Initialize variables\"\"\"\n",
        "          \n",
        "        # Model parameters\n",
        "        self.n_iterations = n_iterations\n",
        "        self.learning_rate = learning_rate \n",
        "\n",
        "        # Data\n",
        "        self.X = self.y = None\n",
        "\n",
        "        # Training examples and features\n",
        "        self.m = self.n = 0\n",
        "\n",
        "        # Model parameters\n",
        "        self.b = self.W = None\n",
        "        self.J = list()\n",
        "\n",
        "    def predict(self, X):\n",
        "        \"\"\"Method for predicting values using features and weights\"\"\"\n",
        "      \n",
        "        return X.dot(self.W) + self.b\n",
        "\n",
        "    def calculate_cost(self, y_pred):\n",
        "        \"\"\"Calculate the value of the cost function\"\"\"\n",
        "\n",
        "        return np.sum((y_pred - self.y) ** 2) / (2 * self.m)\n",
        "\n",
        "    def update_weights(self):\n",
        "        \"\"\"Helper function to update weights in gradient descent\"\"\"\n",
        "             \n",
        "        # Predict\n",
        "        y_pred = self.predict(self.X)\n",
        "\n",
        "        # Calculate cost\n",
        "        self.J.append(self.calculate_cost(y_pred))\n",
        "          \n",
        "        # Calculate gradients\n",
        "        db = np.sum(y_pred - self.y) / self.m\n",
        "        dW = (self.X.T).dot(y_pred - self.y) / self.m\n",
        "          \n",
        "        # Update weights\n",
        "        self.b = self.b - (self.learning_rate * db)\n",
        "        self.W = self.W - (self.learning_rate * dW)\n",
        "          \n",
        "    def fit(self, X, y, method='gradient descent'):\n",
        "        \"\"\"Method for fitting the model to the data\"\"\" \n",
        "\n",
        "        # Data\n",
        "        self.X = X\n",
        "        self.y = y\n",
        "\n",
        "        # Training examples and features\n",
        "        self.m, self.n = X.shape\n",
        "\n",
        "        # Model weights\n",
        "        self.b = 0\n",
        "        self.W = np.zeros(self.n)\n",
        "        \n",
        "        # Gradient descent\n",
        "        if method == 'gradient descent':\n",
        "            for i in range(self.n_iterations):   \n",
        "                self.update_weights()\n",
        "\n",
        "        # Normal equation\n",
        "        elif method == 'normal equation':\n",
        "            X_intercept = np.hstack((np.ones((self.m, 1)), X))\n",
        "            weights = np.dot(np.linalg.inv(np.dot(X_intercept.T, X_intercept)), np.dot(X_intercept.T, y))\n",
        "            self.b = weights[0]\n",
        "            self.W = weights[1:]\n",
        "              \n",
        "        return self\n"
      ],
      "execution_count": 31,
      "outputs": []
    },
    {
      "cell_type": "markdown",
      "metadata": {
        "id": "X_if3Jmd-lcK"
      },
      "source": [
        "## Import data"
      ]
    },
    {
      "cell_type": "code",
      "metadata": {
        "id": "CP-e9YPd--U3"
      },
      "source": [
        "# Import libraries\n",
        "from sklearn.datasets import load_boston\n",
        "\n",
        "# Load Boston House Prices dataset\n",
        "X, y = load_boston(return_X_y=True)"
      ],
      "execution_count": 32,
      "outputs": []
    },
    {
      "cell_type": "markdown",
      "metadata": {
        "id": "0ddYyP3np1bw"
      },
      "source": [
        "## Train models and evaluate on test data"
      ]
    },
    {
      "cell_type": "code",
      "metadata": {
        "colab": {
          "base_uri": "https://localhost:8080/"
        },
        "id": "QCTCXUptp46G",
        "outputId": "3391b28c-d33b-45c5-8c55-e6b4c6bdc6f0"
      },
      "source": [
        "# Import libraries\n",
        "from sklearn.linear_model import LinearRegression\n",
        "from sklearn.metrics import mean_squared_log_error\n",
        "from sklearn.model_selection import train_test_split\n",
        "\n",
        "# Splitting dataset into train and test set \n",
        "X_train, X_test, y_train, y_test = train_test_split(  \n",
        "    X, y, test_size=0.2, random_state=0)\n",
        "    \n",
        "# Train models\n",
        "model_0 = LinearRegression()\n",
        "model_0.fit(X_train, y_train)\n",
        "\n",
        "model_1 = LinearRegressionFromScratch(n_iterations=int(1e6), learning_rate=1e-6)\n",
        "model_1.fit(X_train, y_train, method='gradient descent')\n",
        "\n",
        "model_2 = LinearRegressionFromScratch()\n",
        "model_2.fit(X_train, y_train, method='normal equation')\n",
        "\n",
        "# Evaluate models\n",
        "y_test_pred_0 = model_0.predict(X_test)\n",
        "y_test_pred_0 = np.where(y_test_pred_0 < 0, 0, y_test_pred_0)\n",
        "print('RMSLE (sklearn):', np.sqrt(mean_squared_log_error(y_test, y_test_pred_0)))\n",
        "\n",
        "y_test_pred_1 = model_1.predict(X_test)\n",
        "y_test_pred_1 = np.where(y_test_pred_1 < 0, 0, y_test_pred_1)\n",
        "print('RMSLE (from scratch - Gradient Descent):', np.sqrt(mean_squared_log_error(y_test, y_test_pred_1)))\n",
        "\n",
        "y_test_pred_2 = model_2.predict(X_test)\n",
        "y_test_pred_2 = np.where(y_test_pred_2 < 0, 0, y_test_pred_2)\n",
        "print('RMSLE (from scratch - Normal Equation):', np.sqrt(mean_squared_log_error(y_test, y_test_pred_2)))"
      ],
      "execution_count": 33,
      "outputs": [
        {
          "output_type": "stream",
          "text": [
            "RMSLE (sklearn): 0.3185995622988563\n",
            "RMSLE (from scratch - Gradient Descent): 0.32457235820281705\n",
            "RMSLE (from scratch - Normal Equation): 0.3185995622988798\n"
          ],
          "name": "stdout"
        }
      ]
    },
    {
      "cell_type": "markdown",
      "metadata": {
        "id": "bba8horzHin6"
      },
      "source": [
        "## Gradient descent of cost function"
      ]
    },
    {
      "cell_type": "code",
      "metadata": {
        "colab": {
          "base_uri": "https://localhost:8080/",
          "height": 295
        },
        "id": "Ojw4ekGaFo3C",
        "outputId": "5c8e9335-369b-4772-d5ca-7bcc17b963fb"
      },
      "source": [
        "# Plot cost function\n",
        "pd.Series(model_1.J).plot()"
      ],
      "execution_count": 34,
      "outputs": [
        {
          "output_type": "execute_result",
          "data": {
            "text/plain": [
              "<matplotlib.axes._subplots.AxesSubplot at 0x7fe6a85a4940>"
            ]
          },
          "metadata": {
            "tags": []
          },
          "execution_count": 34
        },
        {
          "output_type": "display_data",
          "data": {
            "image/png": "[encoded data removed]",
            "text/plain": [
              "<Figure size 432x288 with 1 Axes>"
            ]
          },
          "metadata": {
            "tags": [],
            "needs_background": "light"
          }
        }
      ]
    }
  ]
}