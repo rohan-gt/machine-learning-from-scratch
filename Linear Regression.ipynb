{
  "nbformat": 4,
  "nbformat_minor": 0,
  "metadata": {
    "colab": {
      "name": "Linear Regression.ipynb",
      "provenance": [],
      "collapsed_sections": []
    },
    "kernelspec": {
      "name": "python3",
      "display_name": "Python 3"
    }
  },
  "cells": [
    {
      "cell_type": "markdown",
      "metadata": {
        "id": "-xsQDwp4_MVf"
      },
      "source": [
        "## Linear Regression\n",
        "\n",
        "Gradient Descent derivation is available [here](https://towardsdatascience.com/understanding-the-mathematics-behind-gradient-descent-dde5dc9be06e)"
      ]
    },
    {
      "cell_type": "code",
      "metadata": {
        "id": "ohroZSwK_epQ"
      },
      "source": [
        "# Import libraries\n",
        "import numpy as np\n",
        "import pandas as pd\n",
        "\n",
        "# Linear Regression \n",
        "class LinearRegressionFromScratch: \n",
        "      \n",
        "    def __init__(self, n_iterations=int(1e6), learning_rate=1e-6):\n",
        "        \"\"\"Initialize variables\"\"\"\n",
        "          \n",
        "        # Model parameters\n",
        "        self.n_iterations = n_iterations\n",
        "        self.learning_rate = learning_rate \n",
        "\n",
        "        # Data\n",
        "        self.X = self.y = None\n",
        "\n",
        "        # Training examples and features\n",
        "        self.m = self.n = 0\n",
        "\n",
        "        # Model parameters\n",
        "        self.b = self.W = None\n",
        "        self.J = list()\n",
        "\n",
        "    def predict(self, X):\n",
        "        \"\"\"Method for predicting values using features and weights\"\"\"\n",
        "      \n",
        "        return X.dot(self.W) + self.b\n",
        "\n",
        "    def calculate_cost(self, y, y_pred):\n",
        "        \"\"\"Calculate the value of the cost function\"\"\"\n",
        "\n",
        "        return np.sum((y_pred - y) ** 2) / (2 * self.m)\n",
        "\n",
        "    def update_weights(self, batch_size=None):\n",
        "        \"\"\"Helper function to update weights in gradient descent\"\"\"\n",
        "\n",
        "        # Sample training examples\n",
        "        if batch_size:\n",
        "            Xy = np.column_stack([self.X, self.y])\n",
        "            Xy = Xy[np.random.choice(Xy.shape[0], batch_size, replace=False), :]\n",
        "            X = Xy[:, :-1]\n",
        "            y = Xy[:, -1]\n",
        "\n",
        "        else:\n",
        "            X = self.X\n",
        "            y = self.y\n",
        "             \n",
        "        # Predict\n",
        "        y_pred = self.predict(X)\n",
        "\n",
        "        # Calculate cost\n",
        "        self.J.append(self.calculate_cost(y, y_pred))\n",
        "          \n",
        "        # Calculate gradients\n",
        "        db = np.sum(y_pred - y) / self.m\n",
        "        dW = (X.T).dot(y_pred - y) / self.m\n",
        "          \n",
        "        # Update weights\n",
        "        self.b = self.b - (self.learning_rate * db)\n",
        "        self.W = self.W - (self.learning_rate * dW)\n",
        "          \n",
        "    def fit(self, X, y, method='batch gradient descent'):\n",
        "        \"\"\"Method for fitting the model to the data\"\"\" \n",
        "\n",
        "        # Data\n",
        "        self.X = X\n",
        "        self.y = y\n",
        "\n",
        "        # Training examples and features\n",
        "        self.m, self.n = X.shape\n",
        "\n",
        "        # Model weights\n",
        "        self.b = 0\n",
        "        self.W = np.zeros(self.n)\n",
        "        \n",
        "        # Gradient descent\n",
        "        if method == 'batch gradient descent':\n",
        "            for i in range(self.n_iterations):   \n",
        "                self.update_weights()\n",
        "\n",
        "        elif method == 'mini-batch gradient descent':\n",
        "            for i in range(self.n_iterations):   \n",
        "                self.update_weights(batch_size=100)\n",
        "\n",
        "        elif method == 'stochastic gradient descent':\n",
        "            for i in range(self.n_iterations):   \n",
        "                self.update_weights(batch_size=1)\n",
        "\n",
        "        # Normal equation\n",
        "        elif method == 'normal equation':\n",
        "            X_intercept = np.hstack((np.ones((self.m, 1)), X))\n",
        "            weights = np.dot(np.linalg.inv(np.dot(X_intercept.T, X_intercept)), np.dot(X_intercept.T, y))\n",
        "            self.b = weights[0]\n",
        "            self.W = weights[1:]\n",
        "              \n",
        "        return self\n"
      ],
      "execution_count": 45,
      "outputs": []
    },
    {
      "cell_type": "markdown",
      "metadata": {
        "id": "X_if3Jmd-lcK"
      },
      "source": [
        "## Import data"
      ]
    },
    {
      "cell_type": "code",
      "metadata": {
        "id": "CP-e9YPd--U3"
      },
      "source": [
        "# Import libraries\n",
        "from sklearn.datasets import load_boston\n",
        "\n",
        "# Load Boston House Prices dataset\n",
        "X, y = load_boston(return_X_y=True)"
      ],
      "execution_count": 46,
      "outputs": []
    },
    {
      "cell_type": "markdown",
      "metadata": {
        "id": "0ddYyP3np1bw"
      },
      "source": [
        "## Train models and evaluate on test data"
      ]
    },
    {
      "cell_type": "code",
      "metadata": {
        "colab": {
          "base_uri": "https://localhost:8080/"
        },
        "id": "QCTCXUptp46G",
        "outputId": "bb0371bf-41bd-4604-c946-92554e87999b"
      },
      "source": [
        "# Import libraries\n",
        "import time\n",
        "from sklearn.linear_model import LinearRegression\n",
        "from sklearn.metrics import mean_squared_log_error\n",
        "from sklearn.model_selection import train_test_split\n",
        "\n",
        "# Split dataset into train and test sets\n",
        "X_train, X_test, y_train, y_test = train_test_split(  \n",
        "    X, y, test_size=0.2, random_state=0)\n",
        "    \n",
        "# Train models\n",
        "model_0 = LinearRegression()\n",
        "start_time = time.time()\n",
        "model_0.fit(X_train, y_train)\n",
        "t0 = time.time() - start_time\n",
        "\n",
        "model_1 = LinearRegressionFromScratch(n_iterations=int(1e6), learning_rate=1e-6)\n",
        "start_time = time.time()\n",
        "model_1.fit(X_train, y_train, method='batch gradient descent')\n",
        "t1 = time.time() - start_time\n",
        "\n",
        "model_2 = LinearRegressionFromScratch(n_iterations=int(1e6), learning_rate=1e-6)\n",
        "start_time = time.time()\n",
        "model_2.fit(X_train, y_train, method='mini-batch gradient descent')\n",
        "t2 = time.time() - start_time\n",
        "\n",
        "model_3 = LinearRegressionFromScratch(n_iterations=int(1e6), learning_rate=1e-6)\n",
        "start_time = time.time()\n",
        "model_3.fit(X_train, y_train, method='stochastic gradient descent')\n",
        "t3 = time.time() - start_time\n",
        "\n",
        "model_4 = LinearRegressionFromScratch()\n",
        "start_time = time.time()\n",
        "model_4.fit(X_train, y_train, method='normal equation')\n",
        "t4 = time.time() - start_time\n",
        "\n",
        "# Evaluate models\n",
        "y_test_pred_0 = model_0.predict(X_test)\n",
        "y_test_pred_0 = np.where(y_test_pred_0 < 0, 0, y_test_pred_0)\n",
        "print('RMSLE (sklearn):', np.round(np.sqrt(mean_squared_log_error(y_test, y_test_pred_0)), 2))\n",
        "print('Runtime:', round(t0, 2), 's')\n",
        "\n",
        "y_test_pred_1 = model_1.predict(X_test)\n",
        "y_test_pred_1 = np.where(y_test_pred_1 < 0, 0, y_test_pred_1)\n",
        "print('\\nRMSLE (from scratch - Batch Gradient Descent):', np.round(np.sqrt(mean_squared_log_error(y_test, y_test_pred_1)), 2))\n",
        "print('Runtime:', round(t1, 2), 's')\n",
        "\n",
        "y_test_pred_2 = model_2.predict(X_test)\n",
        "y_test_pred_2 = np.where(y_test_pred_2 < 0, 0, y_test_pred_2)\n",
        "print('\\nRMSLE (from scratch - Mini-Batch Gradient Descent):', np.round(np.sqrt(mean_squared_log_error(y_test, y_test_pred_2)), 2))\n",
        "print('Runtime:', round(t2, 2), 's')\n",
        "\n",
        "y_test_pred_3 = model_3.predict(X_test)\n",
        "y_test_pred_3 = np.where(y_test_pred_3 < 0, 0, y_test_pred_3)\n",
        "print('\\nRMSLE (from scratch - Stochastic Gradient Descent):', np.round(np.sqrt(mean_squared_log_error(y_test, y_test_pred_3)), 2))\n",
        "print('Runtime:', round(t3, 2), 's')\n",
        "\n",
        "y_test_pred_4 = model_4.predict(X_test)\n",
        "y_test_pred_4 = np.where(y_test_pred_4 < 0, 0, y_test_pred_4)\n",
        "print('\\nRMSLE (from scratch - Normal Equation):', np.round(np.sqrt(mean_squared_log_error(y_test, y_test_pred_4)), 2))\n",
        "print('Runtime:', round(t4, 2), 's')"
      ],
      "execution_count": 47,
      "outputs": [
        {
          "output_type": "stream",
          "text": [
            "RMSLE (sklearn): 0.32\n",
            "Runtime: 0.0 s\n",
            "\n",
            "RMSLE (from scratch - Batch Gradient Descent): 0.32\n",
            "Runtime: 30.9 s\n",
            "\n",
            "RMSLE (from scratch - Mini-Batch Gradient Descent): 0.32\n",
            "Runtime: 90.43 s\n",
            "\n",
            "RMSLE (from scratch - Stochastic Gradient Descent): 0.62\n",
            "Runtime: 69.65 s\n",
            "\n",
            "RMSLE (from scratch - Normal Equation): 0.32\n",
            "Runtime: 0.0 s\n"
          ],
          "name": "stdout"
        }
      ]
    },
    {
      "cell_type": "markdown",
      "metadata": {
        "id": "bba8horzHin6"
      },
      "source": [
        "## Gradient Descent of cost function"
      ]
    },
    {
      "cell_type": "markdown",
      "metadata": {
        "id": "BlZ31snRSqxz"
      },
      "source": [
        "### Batch Gradient Descent"
      ]
    },
    {
      "cell_type": "code",
      "metadata": {
        "colab": {
          "base_uri": "https://localhost:8080/",
          "height": 295
        },
        "id": "Ojw4ekGaFo3C",
        "outputId": "e7ac16f7-db32-4491-9998-d4a8fda8da8c"
      },
      "source": [
        "# Plot cost function\n",
        "pd.Series(model_1.J).plot()"
      ],
      "execution_count": 48,
      "outputs": [
        {
          "output_type": "execute_result",
          "data": {
            "text/plain": [
              "<matplotlib.axes._subplots.AxesSubplot at 0x7f38ad67f278>"
            ]
          },
          "metadata": {
            "tags": []
          },
          "execution_count": 48
        },
        {
          "output_type": "display_data",
          "data": {
            "image/png": "[encoded data removed]",
            "text/plain": [
              "<Figure size 432x288 with 1 Axes>"
            ]
          },
          "metadata": {
            "tags": [],
            "needs_background": "light"
          }
        }
      ]
    },
    {
      "cell_type": "markdown",
      "metadata": {
        "id": "50klvIOlTUUa"
      },
      "source": [
        "### Mini-Batch Gradient Descent"
      ]
    },
    {
      "cell_type": "code",
      "metadata": {
        "colab": {
          "base_uri": "https://localhost:8080/",
          "height": 295
        },
        "id": "vcmz2HuRTWM4",
        "outputId": "1480f36a-2454-4bcd-f718-01b1459d5388"
      },
      "source": [
        "# Plot cost function\n",
        "pd.Series(model_2.J).plot()"
      ],
      "execution_count": 49,
      "outputs": [
        {
          "output_type": "execute_result",
          "data": {
            "text/plain": [
              "<matplotlib.axes._subplots.AxesSubplot at 0x7f38ad6dbd30>"
            ]
          },
          "metadata": {
            "tags": []
          },
          "execution_count": 49
        },
        {
          "output_type": "display_data",
          "data": {
            "image/png": "[encoded data removed]",
            "text/plain": [
              "<Figure size 432x288 with 1 Axes>"
            ]
          },
          "metadata": {
            "tags": [],
            "needs_background": "light"
          }
        }
      ]
    },
    {
      "cell_type": "markdown",
      "metadata": {
        "id": "VvYTCC04TZpl"
      },
      "source": [
        "### Stochastic Gradient Descent"
      ]
    },
    {
      "cell_type": "code",
      "metadata": {
        "colab": {
          "base_uri": "https://localhost:8080/",
          "height": 295
        },
        "id": "G2LgobjNTaJf",
        "outputId": "37b6227f-dbb4-4cd9-956f-91da9e64550a"
      },
      "source": [
        "# Plot cost function\n",
        "pd.Series(model_3.J).plot()"
      ],
      "execution_count": 50,
      "outputs": [
        {
          "output_type": "execute_result",
          "data": {
            "text/plain": [
              "<matplotlib.axes._subplots.AxesSubplot at 0x7f38a8667320>"
            ]
          },
          "metadata": {
            "tags": []
          },
          "execution_count": 50
        },
        {
          "output_type": "display_data",
          "data": {
            "image/png": "[encoded data removed]",
            "text/plain": [
              "<Figure size 432x288 with 1 Axes>"
            ]
          },
          "metadata": {
            "tags": [],
            "needs_background": "light"
          }
        }
      ]
    }
  ]
}