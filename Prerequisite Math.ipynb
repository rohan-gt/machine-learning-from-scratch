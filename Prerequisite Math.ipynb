{
  "nbformat": 4,
  "nbformat_minor": 0,
  "metadata": {
    "colab": {
      "name": "Prerequisite Math.ipynb",
      "provenance": [],
      "collapsed_sections": [],
      "toc_visible": true,
      "authorship_tag": "ABX9TyOoFzQ7vYgykDB4ECNIcGzL",
      "include_colab_link": true
    },
    "kernelspec": {
      "name": "python3",
      "display_name": "Python 3"
    }
  },
  "cells": [
    {
      "cell_type": "markdown",
      "metadata": {
        "id": "view-in-github",
        "colab_type": "text"
      },
      "source": [
        "<a href=\"https://colab.research.google.com/github/rohan-gt/machine-learning-from-scratch/blob/master/Prerequisite%20Math.ipynb\" target=\"_parent\"><img src=\"https://colab.research.google.com/assets/colab-badge.svg\" alt=\"Open In Colab\"/></a>"
      ]
    },
    {
      "cell_type": "markdown",
      "metadata": {
        "id": "jSVAoY3RSEGC"
      },
      "source": [
        "# Import libraries"
      ]
    },
    {
      "cell_type": "code",
      "metadata": {
        "id": "BXJroRtOSGIj"
      },
      "source": [
        "import numpy as np\n",
        "import pandas as pd\n",
        "from scipy import stats"
      ],
      "execution_count": 45,
      "outputs": []
    },
    {
      "cell_type": "markdown",
      "metadata": {
        "id": "NAc78Kx6V4Gp"
      },
      "source": [
        "# Arithmetic"
      ]
    },
    {
      "cell_type": "markdown",
      "metadata": {
        "id": "K-0VFybSV8vb"
      },
      "source": [
        "## Arithmetic Series\n",
        "Series having start term $a$ and a common difference $d$:\n",
        "\n",
        "$d = a_n - a_{n - 1}$\n",
        "\n",
        "$n^{th}\\space term\\space a_n = a + (n - 1)d$\n",
        "\n",
        "$Mean\\space \\mu = \\dfrac{S_1 + S_n}{2} = \\dfrac{2a + (n - 1)d}{2}$\n",
        "\n",
        "$Sum\\space S_n = n\\mu = \\dfrac{n}{2}[2a + (n - 1)d$]"
      ]
    },
    {
      "cell_type": "markdown",
      "metadata": {
        "id": "-FUt20ilYQs3"
      },
      "source": [
        "## Geometric Series\n",
        "Series having start term $a$ and a common ratio $d$:\n",
        "\n",
        "$d = \\dfrac{a_n}{a_{n - 1}}$\n",
        "\n",
        "$n^{th}\\space term\\space a_n = ar^{n-1}$\n",
        "\n",
        "$Sum\\space S_n = \\dfrac{a(1 - r^n)}{(1 - r)}$"
      ]
    },
    {
      "cell_type": "markdown",
      "metadata": {
        "id": "FSROMnBRVpZ-"
      },
      "source": [
        "# Statistical Measures"
      ]
    },
    {
      "cell_type": "markdown",
      "metadata": {
        "id": "gUg93cLF1ZE6"
      },
      "source": [
        "## Initialize variables"
      ]
    },
    {
      "cell_type": "code",
      "metadata": {
        "id": "ISeAX4RO1iGQ"
      },
      "source": [
        "# Set seed for reproducibility\n",
        "np.random.seed(42)\n",
        "\n",
        "# Create random variables of size n\n",
        "N = 1000\n",
        "X = np.random.normal(size=N)\n",
        "Y = np.random.normal(size=N)\n",
        "\n",
        "# Sample random variables\n",
        "n = 500\n",
        "x = np.random.choice(X, n)\n",
        "y = np.random.choice(Y, n)"
      ],
      "execution_count": null,
      "outputs": []
    },
    {
      "cell_type": "markdown",
      "metadata": {
        "id": "wEWFg7df1K1n"
      },
      "source": [
        "## Mean (Arithmetic Mean)"
      ]
    },
    {
      "cell_type": "code",
      "metadata": {
        "colab": {
          "base_uri": "https://localhost:8080/"
        },
        "id": "AXQdcgU21AdY",
        "outputId": "d401c181-f8f5-4587-9db2-0412378b8c25"
      },
      "source": [
        "mean_population_x = np.sum(X) / N\n",
        "print('Population Mean           =', np.round(mean_population_x, 2))\n",
        "\n",
        "mean_sample_x = np.sum(x) / n\n",
        "print('Estimated Population Mean =', np.round(mean_sample_x, 2))"
      ],
      "execution_count": null,
      "outputs": [
        {
          "output_type": "stream",
          "text": [
            "Population Mean           = 0.02\n",
            "Estimated Population Mean = 0.02\n"
          ],
          "name": "stdout"
        }
      ]
    },
    {
      "cell_type": "markdown",
      "metadata": {
        "id": "rpkw36UrznvO"
      },
      "source": [
        "## Weighted Mean\n",
        "Used when values are given along with a frequency"
      ]
    },
    {
      "cell_type": "code",
      "metadata": {
        "colab": {
          "base_uri": "https://localhost:8080/"
        },
        "id": "sPfEifx-zx18",
        "outputId": "107d48bd-e510-43a8-f5dd-a2beea9f9086"
      },
      "source": [
        "f = np.random.randint(1, 10, size=n)\n",
        "weighted_mean_sample_x = np.sum(x * f) / np.sum(f)\n",
        "print('Weighted Mean =', np.round(weighted_mean_sample_x, 2))"
      ],
      "execution_count": null,
      "outputs": [
        {
          "output_type": "stream",
          "text": [
            "Weighted Mean = 0.05\n"
          ],
          "name": "stdout"
        }
      ]
    },
    {
      "cell_type": "markdown",
      "metadata": {
        "id": "cpMIKy8I0d_J"
      },
      "source": [
        "## Geometric Mean\n",
        "Used to find side of square given dimensions of rectangle of same area, find average rate of increase of salary across years"
      ]
    },
    {
      "cell_type": "code",
      "metadata": {
        "colab": {
          "base_uri": "https://localhost:8080/"
        },
        "id": "-Bvb9xJd1LSS",
        "outputId": "4fe7ed80-47f2-4ce4-da42-38fd6f49f125"
      },
      "source": [
        "geometric_mean_sample_x = np.prod(x) ** (1/n)\n",
        "print('Geometric Mean =', np.round(geometric_mean_sample_x, 2))"
      ],
      "execution_count": null,
      "outputs": [
        {
          "output_type": "stream",
          "text": [
            "Geometric Mean = 0.51\n"
          ],
          "name": "stdout"
        }
      ]
    },
    {
      "cell_type": "markdown",
      "metadata": {
        "id": "_2WT8Tp414De"
      },
      "source": [
        "## Harmonic Mean\n",
        "Used to find the average of rates when the denominator is not fixed. eg. Find average speed of 2 swimmers for a single lap (instead of a fixed time which is denominator here)"
      ]
    },
    {
      "cell_type": "code",
      "metadata": {
        "colab": {
          "base_uri": "https://localhost:8080/"
        },
        "id": "Ge4fb25d2ip1",
        "outputId": "42b4d790-78a2-4232-81a6-52054e8fb735"
      },
      "source": [
        "harmonic_mean_sample_x = n / np.sum(np.reciprocal(x))\n",
        "print('Harmonic Mean =', np.round(harmonic_mean_sample_x, 2))"
      ],
      "execution_count": null,
      "outputs": [
        {
          "output_type": "stream",
          "text": [
            "Harmonic Mean = 1.69\n"
          ],
          "name": "stdout"
        }
      ]
    },
    {
      "cell_type": "markdown",
      "metadata": {
        "id": "-hQrsLQxWGjZ"
      },
      "source": [
        "## Mean Absolute Deviation"
      ]
    },
    {
      "cell_type": "markdown",
      "metadata": {
        "id": "mfiVJ26rWDXB"
      },
      "source": [
        "## Median Absolute Deviation"
      ]
    },
    {
      "cell_type": "markdown",
      "metadata": {
        "id": "YWizbnS45y5A"
      },
      "source": [
        "## Variance\n",
        "We divide by $n - 1$ for sample variance because we will always underestimate the population variance if we use $n$. This is because for any sample, the derivative of sample variance that minimizes it ie. \n",
        "\n",
        "$\\dfrac{\\mathrm{d}}{\\mathrm{d}x}\\dfrac{\\Sigma(x - v)^2}{n} = 0$ (where $v$ is the sample variance for different samples)\n",
        "\n",
        "gives us $v = \\bar{x}$ which means sample variance is always lesser than population varaince using the same denominator $n$"
      ]
    },
    {
      "cell_type": "code",
      "metadata": {
        "colab": {
          "base_uri": "https://localhost:8080/"
        },
        "id": "EjsaHxGr51Hk",
        "outputId": "79727554-380a-4d37-81a5-626c605b748a"
      },
      "source": [
        "var_population_x = np.sum((X - mean_population_x) ** 2) / N\n",
        "print('Population Variance           =', np.round(var_population_x, 2))\n",
        "\n",
        "var_sample_x = np.sum((x - mean_sample_x) ** 2) / (n - 1)\n",
        "print('Estimated Population Variance =', np.round(var_sample_x, 2))"
      ],
      "execution_count": null,
      "outputs": [
        {
          "output_type": "stream",
          "text": [
            "Population Variance           = 0.96\n",
            "Estimated Population Variance = 1.01\n"
          ],
          "name": "stdout"
        }
      ]
    },
    {
      "cell_type": "markdown",
      "metadata": {
        "id": "NtS5HkJY7FtL"
      },
      "source": [
        "## Standard Deviation\n",
        "We calclate the square root of the variance to bring the measure to its original units"
      ]
    },
    {
      "cell_type": "code",
      "metadata": {
        "colab": {
          "base_uri": "https://localhost:8080/"
        },
        "id": "ThLv_3Mv7IH7",
        "outputId": "e17bb02a-fd6e-4349-e5c8-19f657282809"
      },
      "source": [
        "stddev_population_x = np.sqrt(var_population_x)\n",
        "print('Population Standard Deviation           =', np.round(stddev_population_x, 2))\n",
        "\n",
        "stddev_sample_x = np.sqrt(var_sample_x)\n",
        "print('Estimated Population Standard Deviation =', np.round(stddev_sample_x, 2))"
      ],
      "execution_count": null,
      "outputs": [
        {
          "output_type": "stream",
          "text": [
            "Population Standard Deviation           = 0.98\n",
            "Estimated Population Standard Deviation = 1.01\n"
          ],
          "name": "stdout"
        }
      ]
    },
    {
      "cell_type": "markdown",
      "metadata": {
        "id": "EMUf-VknxSxe"
      },
      "source": [
        "## Coefficient of Variation\n",
        "Used to compare stddev. of two random variables of different scales by scaling them by the mean"
      ]
    },
    {
      "cell_type": "code",
      "metadata": {
        "colab": {
          "base_uri": "https://localhost:8080/"
        },
        "id": "JP6d7rlqxonr",
        "outputId": "c0230e21-89ee-409c-8cca-92b589d37a60"
      },
      "source": [
        "CV_sample_x = stddev_sample_x / mean_sample_x\n",
        "print('Coefficient of Variation (x) =', np.round(CV_sample_x, 2))\n",
        "\n",
        "mean_sample_y = np.sum(y) / n\n",
        "stddev_sample_y = np.sqrt(np.sum((x - mean_sample_y) ** 2) / (n - 1))\n",
        "CV_sample_y = stddev_sample_y / mean_sample_y\n",
        "print('Coefficient of Variation (y) =', np.round(CV_sample_y, 2))"
      ],
      "execution_count": null,
      "outputs": [
        {
          "output_type": "stream",
          "text": [
            "Coefficient of Variation (x) = 54.7\n",
            "Coefficient of Variation (y) = 17.21\n"
          ],
          "name": "stdout"
        }
      ]
    },
    {
      "cell_type": "markdown",
      "metadata": {
        "id": "9L4TcCDro_ZQ"
      },
      "source": [
        "## Skew\n",
        "\n",
        "$Skew < 0.5 \\Rightarrow Low~Skew$\n",
        "\n",
        "$Skew < 1 \\Rightarrow Moderate~Skew$\n",
        "\n",
        "$Skew >=1 \\Rightarrow High~Skew$"
      ]
    },
    {
      "cell_type": "code",
      "metadata": {
        "colab": {
          "base_uri": "https://localhost:8080/"
        },
        "id": "-2x72YI3pAsl",
        "outputId": "452b1984-a950-41fb-9533-05b152327617"
      },
      "source": [
        "skew_population_x = (1 / N) * np.sum((X - mean_population_x) ** 3) / (stddev_population_x ** 3)\n",
        "if np.abs(skew_population_x) < 0.5:\n",
        "    skew = '(Low Skew)'\n",
        "elif np.abs(skew_population_x) < 1:\n",
        "    skew = '(Moderate Skew)'\n",
        "else:\n",
        "    skew = '(High Skew)'\n",
        "print('Population Skew           =', np.round(skew_population_x, 2), f'{skew}')\n",
        "\n",
        "skew_sample_x = (n / ((n - 1) * (n - 2))) * np.sum((x - mean_sample_x) ** 3) / (stddev_sample_x ** 3)\n",
        "if np.abs(skew_sample_x) < 0.5:\n",
        "    skew = '(Low Skew)'\n",
        "elif np.abs(skew_sample_x) < 1:\n",
        "    skew = '(Moderate Skew)'\n",
        "else:\n",
        "    skew = '(High Skew)'\n",
        "print('Estimated Population Skew =', np.round(skew_sample_x, 2), f'{skew}')"
      ],
      "execution_count": null,
      "outputs": [
        {
          "output_type": "stream",
          "text": [
            "Population Skew           = 0.12 (Low Skew)\n",
            "Estimated Population Skew = 0.19 (Low Skew)\n"
          ],
          "name": "stdout"
        }
      ]
    },
    {
      "cell_type": "markdown",
      "metadata": {
        "id": "2lC8ofvct23k"
      },
      "source": [
        "## Kurtosis\n",
        "\n",
        "Kurtosis for normal distributions is 3. A lot of times, Excess Kurtosis is used which is 0 for normal distributions:\n",
        "\n",
        "$Excess\\space Kurtosis = Kurtosis - 3$\n",
        "\n",
        "$Excess~Kurtosis < 0 \\Rightarrow Platykurtic~(Thinner~tails)$\n",
        "\n",
        "$Excess~Kurtosis = 0 \\Rightarrow Mesokurtic~(Normal~Distribution)$\n",
        "\n",
        "$Excess~Kurtosis > 0 \\Rightarrow Leptokurtic~(Fatter~tails)$"
      ]
    },
    {
      "cell_type": "code",
      "metadata": {
        "colab": {
          "base_uri": "https://localhost:8080/"
        },
        "id": "5aCji5let4IK",
        "outputId": "bea576c1-c6c6-4988-cad0-9110b51b37ab"
      },
      "source": [
        "kurtosis_population_x = (1 / N) * np.sum((X - mean_population_x) ** 4) / (stddev_population_x ** 4) - 3\n",
        "if -2 <= np.abs(kurtosis_population_x) < 0:\n",
        "    kurtosis = '(Platykurtic)'\n",
        "elif np.abs(kurtosis_population_x) == 0:\n",
        "    kurtosis = '(Mesokurtic)'\n",
        "else:\n",
        "    kurtosis = '(Leptokurtic)'\n",
        "print('Population Kurtosis           =', np.round(kurtosis_population_x, 2), f'{kurtosis}')\n",
        "\n",
        "kurtosis_sample_x = ((n * (n + 1))/ ((n - 1) * (n - 2) * (n - 3))) * np.sum((x - mean_sample_x) ** 4) / (stddev_sample_x ** 4) - (3 * (n - 1) ** 2) / ((n - 2) * (n - 3))\n",
        "if -2 <= np.abs(kurtosis_sample_x) < 0:\n",
        "    kurtosis = '(Platykurtic)'\n",
        "elif np.abs(kurtosis_sample_x) == 0:\n",
        "    kurtosis = '(Mesokurtic)'\n",
        "else:\n",
        "    kurtosis = '(Leptokurtic)'\n",
        "print('Estimated Population Kurtosis =', np.round(kurtosis_sample_x, 2), f'{kurtosis}')"
      ],
      "execution_count": null,
      "outputs": [
        {
          "output_type": "stream",
          "text": [
            "Population Kurtosis           = 0.07 (Leptokurtic)\n",
            "Estimated Population Kurtosis = 0.4 (Leptokurtic)\n"
          ],
          "name": "stdout"
        }
      ]
    },
    {
      "cell_type": "markdown",
      "metadata": {
        "id": "L2VGAODt3Ivz"
      },
      "source": [
        "## Standard Error (of the Sample Mean)\n",
        "It is the estimated error in the sample mean which is again an estimate of the population mean. As n increases the standard error decreases\n",
        "\n",
        "$SE(\\bar x) = \\dfrac{s}{\\sqrt n}$"
      ]
    },
    {
      "cell_type": "code",
      "metadata": {
        "colab": {
          "base_uri": "https://localhost:8080/"
        },
        "id": "E1Z0Rb6r3YE2",
        "outputId": "adbc2d05-d937-47c6-9af5-8afbe3491fd7"
      },
      "source": [
        "standard_error_x = mean_sample_x / np.sqrt(n)\n",
        "print('Standard Error (x) =', np.round(standard_error_x, 2))"
      ],
      "execution_count": null,
      "outputs": [
        {
          "output_type": "stream",
          "text": [
            "Standard Error (x) = 0.0\n"
          ],
          "name": "stdout"
        }
      ]
    },
    {
      "cell_type": "markdown",
      "metadata": {
        "id": "otV2vvMpHuhM"
      },
      "source": [
        "## Confidence Interval\n",
        "\n",
        "$CI(\\bar x)_{p,~n} = \\bar x \\pm SE(\\bar x) \\times t_{(p,~df=n-1)}$"
      ]
    },
    {
      "cell_type": "markdown",
      "metadata": {
        "id": "6YcF-gPdl0V3"
      },
      "source": [
        "## Covariance\n",
        "Tells us if the relationship between 2 random variables are positive, negative or non-existant. It doesn't tell us the strength of the relationship\n",
        "\n",
        "$COV(x, y) = \\sigma_{xy} = \\sum(x - \\bar x)(y - \\bar y)$\n",
        "\n",
        "$V(x + y) = V(x) + V(y) + 2COV(x, y)$"
      ]
    },
    {
      "cell_type": "code",
      "metadata": {
        "colab": {
          "base_uri": "https://localhost:8080/"
        },
        "id": "_DU-hxjel2W-",
        "outputId": "7433e187-cf98-4135-fe58-2261bd714b0f"
      },
      "source": [
        "mean_sample_y = np.sum(y) / n\n",
        "covariance = np.sum(x - mean_sample_x) * np.sum(y - mean_sample_y) / np.sum(x - mean_sample_x) ** 2\n",
        "print('Covariance of random variables x, y =', covariance)\n",
        "if covariance > 0:\n",
        "    print('There is a positive covariance between x and y')\n",
        "\n",
        "if covariance < 0:\n",
        "    print('There is a negative covariance between x and y')\n",
        "\n",
        "else:\n",
        "    print('There is a no covariance between x and y')"
      ],
      "execution_count": null,
      "outputs": [
        {
          "output_type": "stream",
          "text": [
            "Covariance of random variables x, y = -0.9\n",
            "There is a negative covariance between x and y\n"
          ],
          "name": "stdout"
        }
      ]
    },
    {
      "cell_type": "markdown",
      "metadata": {
        "id": "_kQ233FwK4GQ"
      },
      "source": [
        "## Pearson's (product moment) Correlation\n",
        "The relationship has to be linear\n",
        "\n",
        "$\\rho_{xy} = \\dfrac{\\sigma_{xy}}{\\sigma_x\\sigma_y} = \\dfrac{\\sum(x - \\bar x)(y - \\bar y)}{\\sqrt{\\sum(x - \\bar x)^2(y - \\bar y)^2}}$"
      ]
    },
    {
      "cell_type": "markdown",
      "metadata": {
        "id": "i5Dq_EKoUvXn"
      },
      "source": [
        "## Spearman's (rank-order) Correlation\n",
        "\n",
        "Will be 1 for monotonically increasing and -1 for monotonically decreasing relationships. The relationship can be non-linear"
      ]
    },
    {
      "cell_type": "markdown",
      "metadata": {
        "id": "sGZ72YCNdFGq"
      },
      "source": [
        "# Permutations and Combinations"
      ]
    },
    {
      "cell_type": "markdown",
      "metadata": {
        "id": "tD5a-LL3dI39"
      },
      "source": [
        "## Permutations\n",
        "No. of ways in which you can arrange r things out of n\n",
        "\n",
        "$^nP_r = \\dfrac{n!}{(n-r)!}$"
      ]
    },
    {
      "cell_type": "markdown",
      "metadata": {
        "id": "6j6fqhnIdWhd"
      },
      "source": [
        "## Combinations\n",
        "No. of ways in which you can select r things out of n\n",
        "\n",
        "$^nC_r = \\dfrac{n!}{r!(n-r)!}$"
      ]
    },
    {
      "cell_type": "markdown",
      "metadata": {
        "id": "8IdMMGIcVw5A"
      },
      "source": [
        "# Probability\n",
        "If A and B are dependent:\n",
        "\n",
        "$P(A \\cup B) = P(A) + P(B) - P(A \\cap B)$\n",
        "\n",
        "If A and B are independent:\n",
        "\n",
        "$P(A \\cup B) = P(A) + P(B)$\n",
        "\n",
        "$P(A \\cap B) = P(A) \\times P(B)$"
      ]
    },
    {
      "cell_type": "markdown",
      "metadata": {
        "id": "XBPg-eI-hP8b"
      },
      "source": [
        "## Expected Value\n",
        "\n",
        "Expected value of an event is the average outcome w.r.t. the different probabilities:\n",
        "\n",
        "$E(X) = \\Sigma XP(X = X)$\n",
        "\n",
        "where $x$ represents an outcome of the event $X$ and $P(X = x)$ is the probability of the event with outcome $x$"
      ]
    },
    {
      "cell_type": "code",
      "metadata": {
        "colab": {
          "base_uri": "https://localhost:8080/"
        },
        "id": "1PzD1KvuiR9u",
        "outputId": "eb77e339-1b2e-464a-bc1d-89e2fbe1bb5f"
      },
      "source": [
        "# Calculate the expected value of a die\n",
        "x = np.array([1, 2, 3, 4, 5, 6])\n",
        "P = np.array([1/6] * 6)\n",
        "expected_value = np.sum(x * P)\n",
        "print('Expected Value of a die =', expected_value)"
      ],
      "execution_count": null,
      "outputs": [
        {
          "output_type": "stream",
          "text": [
            "Expected Value of a die = 3.5\n"
          ],
          "name": "stdout"
        }
      ]
    },
    {
      "cell_type": "markdown",
      "metadata": {
        "id": "Idnejg4m4bnB"
      },
      "source": [
        "## Variance\n",
        "$V(X) = E(X^2) - E(X)^2$"
      ]
    },
    {
      "cell_type": "markdown",
      "metadata": {
        "id": "cBxVDZ7WI8Aj"
      },
      "source": [
        "## Markov's Inequality\n",
        "\n",
        "If $X \\ge 0$ and $a \\ge 0$ then $P(X \\ge a) \\le \\dfrac{E(X)}{a}$"
      ]
    },
    {
      "cell_type": "markdown",
      "metadata": {
        "id": "0PYpKJN9JihP"
      },
      "source": [
        "## Chebyshev's Inequality\n",
        "\n",
        "$P(|X - \\mu| \\ge c) \\le 1 - \\dfrac{\\sigma^2}{c^2}$\n",
        "\n",
        "Eg. $P(|X - \\mu| \\ge k\\sigma) \\le \\dfrac{1}{k^2}$"
      ]
    },
    {
      "cell_type": "markdown",
      "metadata": {
        "id": "zH6fr71W0gYT"
      },
      "source": [
        "## Conditional Probability\n",
        "If A and B are dependent:\n",
        "\n",
        "$P(A|B) = \\dfrac{P(A \\cap B)}{P(B)}$\n",
        "\n",
        "If A and B are independent:\n",
        "\n",
        "$P(A|B) = P(A)$\n"
      ]
    },
    {
      "cell_type": "markdown",
      "metadata": {
        "id": "c5ksYTfJgCGy"
      },
      "source": [
        "## Bayes' Theorem\n",
        "$P(A|B) = \\dfrac{P(B|A)P(A)}{P(B)}$"
      ]
    },
    {
      "cell_type": "markdown",
      "metadata": {
        "id": "u13hcI_2VhNP"
      },
      "source": [
        "# Probability Distributions\n",
        "\n",
        "Probaility Mass Function (PMF) = $P(X = x)$ ; for discrete variables\n",
        "\n",
        "Probaility Density Function (PDF) = $P(x_1 <= X <= x_2)$ ; for continuous variables\n",
        "\n",
        "Cumulative Ditribution Function (CDF) = $P(X <= x)$ ; for both\n",
        "\n",
        "Percent Point Function (PPF): The percent point function is the inverse of the cumulative distribution function. For this reason, the percent point function is also commonly referred to as the inverse distribution function"
      ]
    },
    {
      "cell_type": "markdown",
      "metadata": {
        "id": "uG1RcCClRjta"
      },
      "source": [
        "## Binomial Distribution [Discrete]\n",
        "Use for modelling data having binary outcomes\n",
        "\n",
        "$PMF~p(X = x) =\\space ^nP_r\\space p^x(1 - p)^{n - x}$\n",
        "\n",
        "$Expected\\space Value\\space E(x) = np$\n",
        "\n",
        "$Variance\\space V(x) = np(1 - p)$"
      ]
    },
    {
      "cell_type": "code",
      "metadata": {
        "colab": {
          "base_uri": "https://localhost:8080/"
        },
        "id": "oexBW1WwhUhq",
        "outputId": "73f72c8c-8c2b-4e2c-c911-fd3e0eaeee7d"
      },
      "source": [
        "# Q1. Studies show color blindness affects 8% of men. What is the probability of\n",
        "#     finding 2 color blind men from a sample of 10?\n",
        "prob = stats.binom.pmf(2, 10, 0.08)\n",
        "print('A1.', round(prob, 2))\n",
        "\n",
        "# Q2. What is the probability of finding less than 2 color blind men from a\n",
        "#     sample of 10?\n",
        "prob = stats.binom.cdf(1, 10, 0.08)\n",
        "print('A2.', round(prob, 2))"
      ],
      "execution_count": 59,
      "outputs": [
        {
          "output_type": "stream",
          "text": [
            "A1. 0.15\n",
            "A2. 0.81\n"
          ],
          "name": "stdout"
        }
      ]
    },
    {
      "cell_type": "markdown",
      "metadata": {
        "id": "luhhRvINVBDe"
      },
      "source": [
        "## Poisson Distribution [Discrete]\n",
        "Use for modelling events occuring at a contant time interval and the probability of the event occuring is the same at every interval. Here $x\\in[0, \\infty)$ and $\\lambda$ is the mean/expected value of events\n",
        "\n",
        "$P(X = x) = \\dfrac{e^{-\\lambda}\\lambda^x}{x!}$\n",
        "\n",
        "$Expected\\space Value\\space E(x) = \\lambda$\n",
        "\n",
        "$Variance\\space V(x) = \\lambda$"
      ]
    },
    {
      "cell_type": "code",
      "metadata": {
        "colab": {
          "base_uri": "https://localhost:8080/"
        },
        "id": "MhJwICF5l-uC",
        "outputId": "b5b33b8f-8d97-4499-cb1c-05c844f1dcf9"
      },
      "source": [
        "# Q1. The no. of click-through sales from a Facebook ad is Poisson distributed \n",
        "#     with a mean of 12 click-through sales. What is the probability of getting\n",
        "#     exactly 10 click-through sales in the first day?\n",
        "prob = stats.poisson.pmf(10, 12)\n",
        "print('A1.', round(prob, 2))\n",
        "\n",
        "# Q2. What is the probability of getting at least 10 click-through sales in the\n",
        "#     first day?\n",
        "prob = 1 - stats.poisson.cdf(9, 12)\n",
        "print('A2.', round(prob, 2))\n",
        "\n",
        "# Q3. More than one sale in the first hour?\n",
        "prob = 1 - stats.poisson.cdf(1, 12/24)\n",
        "print('A3.', round(prob, 2))"
      ],
      "execution_count": 64,
      "outputs": [
        {
          "output_type": "stream",
          "text": [
            "A1. 0.1\n",
            "A2. 0.76\n",
            "A3. 0.09\n"
          ],
          "name": "stdout"
        }
      ]
    },
    {
      "cell_type": "markdown",
      "metadata": {
        "id": "843FY7Ga-NcN"
      },
      "source": [
        "## Hypergeometric Distribution [Discrete]\n",
        "$PMF~p(k, M, n, N) = \\frac{\\binom{n}{k} \\binom{M - n}{N - k}}\n",
        "{\\binom{M}{N}}$"
      ]
    },
    {
      "cell_type": "code",
      "metadata": {
        "colab": {
          "base_uri": "https://localhost:8080/"
        },
        "id": "GqVmnRrdo0pB",
        "outputId": "788a392b-c877-4455-ebb0-e10784a22355"
      },
      "source": [
        "# Q1. What is the probability of getting 2 spades in a 5 card poker hand?\n",
        "prob = stats.hypergeom.pmf(2, 52, 5, 13)\n",
        "print('A1.', round(prob * 100, 2), '%')\n",
        "\n",
        "# Q2. What is the probability of getting 2 spades in a 5 card poker hand?\n",
        "prob = stats.hypergeom.cdf(2, 52, 5, 13)\n",
        "print('A2.', round(prob * 100, 2), '%')\n",
        "\n",
        "# Q3. Poz has 2 spades (Texas Hold 'em Poker). What is the probability that Poz\n",
        "#     scores a flush?\n",
        "prob = 1 - stats.hypergeom.cdf(2, 50, 5, 11) + (3 * stats.hypergeom.pmf(5, 52, 5, 13))\n",
        "print('A3.', round(prob * 100, 2), '%')\n",
        "\n",
        "# Q4. What is the probability that Puck scores a flush if he has a club and a heart?\n",
        "prob = (2 * (1 - stats.hypergeom.cdf(3, 51, 5, 12))) + (2 * stats.hypergeom.pmf(5, 52, 5, 13))\n",
        "print('A4.', round(prob * 100, 2), '%')"
      ],
      "execution_count": 77,
      "outputs": [
        {
          "output_type": "stream",
          "text": [
            "A1. 27.43 %\n",
            "A2. 90.72 %\n",
            "A3. 6.55 %\n",
            "A4. 1.81 %\n"
          ],
          "name": "stdout"
        }
      ]
    },
    {
      "cell_type": "markdown",
      "metadata": {
        "id": "ESkRXYdYo4PI"
      },
      "source": [
        "## Exponential Distribution [Continuous]\n",
        "Use for modelling time between events (inverse of Poisson)\n",
        "\n",
        "$PMF~f(x) = \\lambda e^{-\\lambda x}$\n",
        "\n",
        "$Expected\\space Value\\space E(x) = \\lambda = \\lambda_{poisson}^{-1}$\n"
      ]
    },
    {
      "cell_type": "code",
      "metadata": {
        "colab": {
          "base_uri": "https://localhost:8080/"
        },
        "id": "5748OYe3us8N",
        "outputId": "9b372d7c-cf58-4eef-99d3-bdf0efd66714"
      },
      "source": [
        "# Q1. Unique visitors arrive at a website by a Poisson process at an average\n",
        "#     rate of 3 per hour. What is the probability that next visitor arrives \n",
        "#     within 10 minutes?\n",
        "prob = stats.expon.cdf(10, scale=60/3)\n",
        "print('A1.', round(prob * 100, 2), '%')\n",
        "\n",
        "# Q2. What is the probability that next visitor comes after 30 minutes passes?\n",
        "prob = 1 - stats.expon.cdf(30, scale=60/3)\n",
        "print('A2.', round(prob * 100, 2), '%')\n",
        "\n",
        "# Q2. What is the probability that next visitor comes in exactly 15 minutes?\n",
        "print('A3. 0 %')"
      ],
      "execution_count": 86,
      "outputs": [
        {
          "output_type": "stream",
          "text": [
            "A1. 39.35 %\n",
            "A2. 22.31 %\n",
            "A3. 0 %\n"
          ],
          "name": "stdout"
        }
      ]
    },
    {
      "cell_type": "markdown",
      "metadata": {
        "id": "Tnpz1QdL3ZvR"
      },
      "source": [
        "## Normal (z) Distribution [Continuous]\n",
        "\n",
        "$PDF\\space f(x) = \\dfrac{1}{\\sqrt{2\\pi\\sigma^2}}e^{-\\dfrac{(x - \\mu)^2}{2\\sigma^2}}$\n",
        "\n",
        "Standard normal distribution is when $\\mu = 0$ and $\\sigma = 1$:\n",
        "\n",
        "$z = \\dfrac{X - \\mu}{\\sigma}$"
      ]
    },
    {
      "cell_type": "markdown",
      "metadata": {
        "id": "RPInIgwYPOpg"
      },
      "source": [
        "## Law of Large Numbers\n",
        "As the size of the sample increases, the mean value of the sample will better approximate the mean or expected value in the population. Therefore, as the sample size goes to infinity, the sample mean will converge to the population mean. It is important to be clear that the observations in the sample must be independent"
      ]
    },
    {
      "cell_type": "code",
      "metadata": {
        "colab": {
          "base_uri": "https://localhost:8080/",
          "height": 296
        },
        "id": "al2gNdC-PotV",
        "outputId": "d28b576b-3c7c-4c22-8f77-f18c286d81dd"
      },
      "source": [
        "n = 1000\n",
        "means = pd.Series(np.cumsum(np.random.choice([0, 1], n)) / range(1, n + 1))\n",
        "ax = means.plot()\n",
        "ax.set_xlabel('No. of trials')\n",
        "ax.set_ylabel('Proability of Getting Heads')"
      ],
      "execution_count": 28,
      "outputs": [
        {
          "output_type": "execute_result",
          "data": {
            "text/plain": [
              "Text(0, 0.5, 'Proability of Getting Heads')"
            ]
          },
          "metadata": {
            "tags": []
          },
          "execution_count": 28
        },
        {
          "output_type": "display_data",
          "data": {
            "image/png": "[encoded data removed]",
            "text/plain": [
              "<Figure size 432x288 with 1 Axes>"
            ]
          },
          "metadata": {
            "tags": [],
            "needs_background": "light"
          }
        }
      ]
    },
    {
      "cell_type": "markdown",
      "metadata": {
        "id": "77y01j3QPeoJ"
      },
      "source": [
        "## Central Limit Theorem\n",
        "The central limit theorem states that if you have a population with mean $\\mu$ and standard deviation $\\sigma$ and take sufficiently large random samples from the population with replacement, then the distribution of the sample means (or sum) will be approximately normally distributed (Even for coin tosses and dice rolls) with mean $\\mu$ and standard deviation $\\dfrac{\\sigma}{\\sqrt n}$."
      ]
    },
    {
      "cell_type": "markdown",
      "metadata": {
        "id": "amxI45CQ9C8k"
      },
      "source": [
        "## (Student's) t Distribution [Continuous]\n",
        "Used for small samples from a normally distributed population. The t-statistic has $n-1$ degrees of freedom because it uses the population mean\n",
        "\n",
        "$t_{n-1} = \\dfrac{\\bar x - \\mu}{\\dfrac{s}{\\sqrt n}}$"
      ]
    },
    {
      "cell_type": "code",
      "metadata": {
        "colab": {
          "base_uri": "https://localhost:8080/"
        },
        "id": "yTPOaRgkUySy",
        "outputId": "33132a5e-3494-4b3a-b1b6-2325f22a3124"
      },
      "source": [
        "# Q1. What proportion of a t-distribution (with df=4) exists above t=1.61?\n",
        "perc = 1 - stats.t.cdf(1.61, 4)\n",
        "print('A1.', round(perc, 2) * 100, '%')\n",
        "\n",
        "# Q2. What t-statistic (with df=4) provides 2.5% in the upper tail?\n",
        "t_stat = stats.t.ppf(1 - 0.025, 4)\n",
        "print('A2.', round(t_stat, 2))"
      ],
      "execution_count": 46,
      "outputs": [
        {
          "output_type": "stream",
          "text": [
            "A1. 9.0 %\n",
            "A2. 2.78\n"
          ],
          "name": "stdout"
        }
      ]
    },
    {
      "cell_type": "markdown",
      "metadata": {
        "id": "rLypiP68zhjG"
      },
      "source": [
        "## Chi-Squared Distribution [Continuous]\n",
        "Can be thought of as the square of a selection taken from a standard normal distribution. For $k$ (degrees of freedom) standard normal distributions:\n",
        "\n",
        "$Q = \\sum_{i=1}^{k}z_i^2 \\sim \\chi^2_k$\n",
        "\n",
        "$Expected~Value~E(x) = k$\n",
        "\n",
        "$Variance~V(x) = 2k$"
      ]
    },
    {
      "cell_type": "code",
      "metadata": {
        "colab": {
          "base_uri": "https://localhost:8080/"
        },
        "id": "7mpxmXVnVN5p",
        "outputId": "3b4adfdc-1450-4241-e2c7-d27f6b6bfdec"
      },
      "source": [
        "# Import libraries\n",
        "import ast\n",
        "\n",
        "target_var_names = ['bin', 'dict', 'dir', 'iter', 'list', 'next', 'set', 'str']\n",
        "\n",
        "source = \"\"\"\n",
        "class str: \n",
        "    def __init__(self, list): \n",
        "        def next(foo, iter=42, baz=1): bin = 2\n",
        "\"\"\"\n",
        "\n",
        "# Define function\n",
        "def find_variable_assignments(source, target_var_names):\n",
        "    \"\"\"Function to find invalid variable assignments within Python code\"\"\"\n",
        "\n",
        "    # Get nodes of Abstract Syntax Tree\n",
        "    nodes = [node for node in ast.walk(ast.parse(source))]\n",
        "\n",
        "    # Loop through nodes and identify invalid variables\n",
        "    var_names = []\n",
        "    for node in nodes:\n",
        "        if isinstance(node, ast.ClassDef):\n",
        "            var_names.append(node.name)\n",
        "        \n",
        "        elif isinstance(node, ast.FunctionDef):\n",
        "            var_names.append(node.name)\n",
        "            for arg in node.args.args:\n",
        "                var_names.append(arg.arg)\n",
        "        \n",
        "        elif isinstance(node, ast.Assign):\n",
        "            if isinstance(node.targets[0], ast.Name):\n",
        "                var_names.append(node.targets[0].id)\n",
        "\n",
        "            elif isinstance(node.targets[0], ast.Tuple):\n",
        "                for elt in node.targets[0].elts:\n",
        "                    var_names.append(elt.id)\n",
        "\n",
        "    return list(set(target_var_names) & set(var_names))\n",
        "\n",
        "find_variable_assignments(source, target_var_names)"
      ],
      "execution_count": 120,
      "outputs": [
        {
          "output_type": "execute_result",
          "data": {
            "text/plain": [
              "['bin', 'iter', 'str', 'list', 'next']"
            ]
          },
          "metadata": {
            "tags": []
          },
          "execution_count": 120
        }
      ]
    },
    {
      "cell_type": "code",
      "metadata": {
        "colab": {
          "base_uri": "https://localhost:8080/"
        },
        "id": "vNSOMvW8mVgB",
        "outputId": "af69e78a-2768-4335-d1c5-005e8b74d3ac"
      },
      "source": [
        "args = [-5,-3,-2,-1,0,1,18,19,20,25,26,28,29,30,35,44,50]\n",
        "\n",
        "ans = '-5,-3-1,18-20,25,26,28-30,35,44,50'\n",
        "\n",
        "# Define function\n",
        "def solution(args):\n",
        "    \"\"\"Function to group consecutive integers into ranges\"\"\"\n",
        "  \n",
        "    run = []\n",
        "    result = []\n",
        "    first, rest = args[0], args[1:]\n",
        "    run.append(first)\n",
        "\n",
        "    for n in rest + ['.']:\n",
        "        if n != run[-1] + 1:\n",
        "            if len(run) > 2:\n",
        "                result.append(str(run[0]) + '-' + str(run[-1]))\n",
        "\n",
        "            else:\n",
        "                result += [str(r) for r in run] \n",
        "\n",
        "            run = [n]\n",
        "\n",
        "        else:\n",
        "            run.append(n)\n",
        "\n",
        "    return ','.join(result)\n",
        "\n",
        "\n",
        "solution(args) == ans"
      ],
      "execution_count": 236,
      "outputs": [
        {
          "output_type": "execute_result",
          "data": {
            "text/plain": [
              "True"
            ]
          },
          "metadata": {
            "tags": []
          },
          "execution_count": 236
        }
      ]
    }
  ]
}