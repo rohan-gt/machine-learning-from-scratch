{
  "nbformat": 4,
  "nbformat_minor": 0,
  "metadata": {
    "colab": {
      "name": "Linear Models.ipynb",
      "provenance": [],
      "collapsed_sections": [],
      "toc_visible": true,
      "include_colab_link": true
    },
    "kernelspec": {
      "name": "python3",
      "display_name": "Python 3"
    }
  },
  "cells": [
    {
      "cell_type": "markdown",
      "metadata": {
        "id": "view-in-github",
        "colab_type": "text"
      },
      "source": [
        "<a href=\"https://colab.research.google.com/github/rohan-gt/machine-learning-from-scratch/blob/master/Linear%20Models.ipynb\" target=\"_parent\"><img src=\"https://colab.research.google.com/assets/colab-badge.svg\" alt=\"Open In Colab\"/></a>"
      ]
    },
    {
      "cell_type": "markdown",
      "metadata": {
        "id": "-xsQDwp4_MVf"
      },
      "source": [
        "## Elastic-Net\n",
        "\n",
        "OLS derivation is available [here](https://dustinstansbury.github.io/theclevermachine/derivation-normal-equations)\n",
        "\n",
        "Gradient Descent derivation is available [here](https://towardsdatascience.com/understanding-the-mathematics-behind-gradient-descent-dde5dc9be06e)\n",
        "\n",
        "Regularization intuition is available [here](https://medium.com/@kiprono_65591/regularization-a-technique-used-to-prevent-over-fitting-886d5b361700) and [here](https://kevinbinz.com/2019/06/09/regularization/)\n",
        "\n",
        "Equation:\n",
        "\n",
        "$h(x) = \\theta^Tx$\n",
        "\n",
        "Cost function (SSE + Regularization):\n",
        "$J(\\theta) = \\frac{1}{2m}\\sum_{i=1}^m(y^{(i)} - h(x)^{(i)})^2 + \\frac{\\lambda_1}{m}\\sum_{j=1}^n|\\theta_j| + \\frac{\\lambda_2}{2m}\\sum_{j=1}^n|\\theta_j|^2$\n",
        "\n",
        "Gradient Descent:\n",
        "$\\theta_j := \\theta_j − \\frac{\\alpha}{m}[\\sum_{i=1}^m(y^{(i)} - h(x)^{(i)})⋅x_j^{(i)} + \\lambda_1 + \\lambda_2\\theta]~~~for~j := 0...n$"
      ]
    },
    {
      "cell_type": "markdown",
      "metadata": {
        "id": "3x5ojQXZNVrv"
      },
      "source": [
        "## Logistic Regression\n",
        "\n",
        "Gradient descent derivation is available [here](https://medium.com/analytics-vidhya/derivative-of-log-loss-function-for-logistic-regression-9b832f025c2d)\n",
        "\n",
        "Equation:\n",
        "\n",
        "$h_\\theta^{(i)}(x) = P(y = i | x; \\theta)~~~(for~i=1, 2...n) = \\frac{1}{1 + e^{\\theta^Tx}}$\n",
        "\n",
        "Cost function:\n",
        "$J(\\theta) = -\\frac{1}{m}\\sum_{i=1}^n(y^{(i)}log(h(x)^{(i)}) + (1 - y)log(1 - h(x)^{(i)})) + \\frac{\\lambda_1}{m}\\sum_{j=1}^n|\\theta_j| + \\frac{\\lambda_2}{2m}\\sum_{j=1}^n|\\theta_j|^2$\n",
        "\n",
        "Gradient Descent:\n",
        "$\\theta_j := \\theta_j − \\frac{\\alpha}{m}[\\sum_{i=1}^m(y^{(i)} - h(x)^{(i)})⋅x_j^{(i)} + \\lambda_1 + \\lambda_2\\theta]~~~for~j := 0...n$"
      ]
    },
    {
      "cell_type": "markdown",
      "metadata": {
        "id": "dOY_tXD_8lYk"
      },
      "source": [
        "## Implementation"
      ]
    },
    {
      "cell_type": "code",
      "metadata": {
        "id": "ohroZSwK_epQ"
      },
      "source": [
        "# Import libraries\n",
        "import numpy as np\n",
        "import pandas as pd\n",
        "\n",
        "# Generalized Linear Model\n",
        "class GeneralizedLinearModel:\n",
        "      \n",
        "    def __init__(self, family='gaussian', n_iterations=int(1e6), learning_rate=1e-6,\n",
        "                 alpha=0, l1_ratio=0.5):\n",
        "        \"\"\"Initialize variables\"\"\"\n",
        "          \n",
        "        # Model parameters\n",
        "        self.n_iterations = n_iterations\n",
        "        self.learning_rate = learning_rate \n",
        "\n",
        "        # Data\n",
        "        self.X = self.y = None\n",
        "\n",
        "        # Training examples and features\n",
        "        self.m = self.n = 0\n",
        "\n",
        "        # Model parameters\n",
        "        self.b = self.W = None\n",
        "        self.J = list()\n",
        "        self.alpha = alpha\n",
        "        self.l1_ratio = l1_ratio\n",
        "        self.lambda_l1 = self.alpha * self.l1_ratio\n",
        "        self.lambda_l2 = self.alpha * (1 - self.l1_ratio)\n",
        "\n",
        "    def identity(y):\n",
        "        \"\"\"Identity link function\"\"\"\n",
        "\n",
        "        return y\n",
        "\n",
        "    def logit(y):\n",
        "        \"\"\"Logit link function\"\"\"\n",
        "\n",
        "        return 1 / (1 + np.exp(-y))\n",
        "\n",
        "    def predict(self, X):\n",
        "        \"\"\"Method for predicting values using features and weights\"\"\"\n",
        "      \n",
        "        return X.dot(self.W) + self.b\n",
        "\n",
        "    def calculate_cost(self, y, y_pred):\n",
        "        \"\"\"Calculate the value of the cost function\"\"\"\n",
        "\n",
        "        return np.sum((y_pred - y) ** 2) / (2 * self.m)\n",
        "\n",
        "    def update_weights(self, batch_size=None):\n",
        "        \"\"\"Helper function to update weights in gradient descent\"\"\"\n",
        "\n",
        "        # Sample training examples\n",
        "        if batch_size:\n",
        "            Xy = np.column_stack([self.X, self.y])\n",
        "            Xy = Xy[np.random.choice(Xy.shape[0], batch_size, replace=False), :]\n",
        "            X = Xy[:, :-1]\n",
        "            y = Xy[:, -1]\n",
        "\n",
        "        else:\n",
        "            X = self.X.copy()\n",
        "            y = self.y.copy()\n",
        "\n",
        "        # Update training examples\n",
        "        self.m = batch_size if batch_size else self.m\n",
        "             \n",
        "        # Predict\n",
        "        y_pred = self.predict(X)\n",
        "\n",
        "        # Calculate cost\n",
        "        self.J.append(self.calculate_cost(y, y_pred))\n",
        "          \n",
        "        # Calculate gradients\n",
        "        db = np.sum(y_pred - y) / self.m\n",
        "        dW = ((X.T).dot(y_pred - y) + self.lambda_l1 + (self.lambda_l2 * self.W)) / self.m\n",
        "\n",
        "        # Update weights\n",
        "        self.b -= self.learning_rate * db\n",
        "        self.W -= self.learning_rate * dW\n",
        "          \n",
        "    def fit(self, X, y, method='batch gradient descent'):\n",
        "        \"\"\"Method for fitting the model to the data\"\"\" \n",
        "\n",
        "        # Data\n",
        "        self.X = X\n",
        "        self.y = y\n",
        "\n",
        "        # Training examples and features\n",
        "        self.m = self.X.shape[0]\n",
        "        self.n = self.X.shape[1]\n",
        "\n",
        "        # Initialize model weights\n",
        "        self.b = 0\n",
        "        self.W = np.zeros(self.n)\n",
        "        \n",
        "        # Gradient/coordinate descent\n",
        "        if method == 'batch descent':\n",
        "            for i in range(self.n_iterations):\n",
        "                self.update_weights()\n",
        "\n",
        "        elif method == 'mini-batch descent':\n",
        "            for i in range(self.n_iterations):   \n",
        "                self.update_weights(batch_size=100)\n",
        "\n",
        "        elif method == 'stochastic descent':\n",
        "            for i in range(self.n_iterations):\n",
        "                self.update_weights(batch_size=1)\n",
        "\n",
        "        # Normal equation (Ordinary Least Squares)\n",
        "        elif method == 'normal equation':\n",
        "            self.X = np.hstack((np.ones((self.m, 1)), self.X))\n",
        "            lambda_l2 = self.lambda_l2 * np.identity(self.n + 1)\n",
        "            lambda_l2[0][0] = 0\n",
        "            weights = np.linalg.inv(self.X.T.dot(self.X) - lambda_l2).dot(self.X.T.dot(self.y))\n",
        "            self.b = weights[0]\n",
        "            self.W = weights[1:]\n",
        "              \n",
        "        return self\n"
      ],
      "execution_count": 64,
      "outputs": []
    },
    {
      "cell_type": "markdown",
      "metadata": {
        "id": "X_if3Jmd-lcK"
      },
      "source": [
        "## Import data"
      ]
    },
    {
      "cell_type": "code",
      "metadata": {
        "id": "CP-e9YPd--U3"
      },
      "source": [
        "# Import libraries\n",
        "from sklearn.datasets import load_boston\n",
        "\n",
        "# Load Boston House Prices dataset\n",
        "X, y = load_boston(return_X_y=True)"
      ],
      "execution_count": 47,
      "outputs": []
    },
    {
      "cell_type": "markdown",
      "metadata": {
        "id": "0ddYyP3np1bw"
      },
      "source": [
        "## Train models and evaluate on test data"
      ]
    },
    {
      "cell_type": "code",
      "metadata": {
        "colab": {
          "base_uri": "https://localhost:8080/"
        },
        "id": "QCTCXUptp46G",
        "outputId": "5d41401f-5eb0-4732-8fbb-a73f66210e9d"
      },
      "source": [
        "# Import libraries\n",
        "import time\n",
        "from sklearn.linear_model import ElasticNet\n",
        "from sklearn.metrics import mean_squared_log_error\n",
        "from sklearn.model_selection import train_test_split\n",
        "\n",
        "# Split dataset into train and test sets\n",
        "X_train, X_test, y_train, y_test = train_test_split(  \n",
        "    X, y, test_size=0.2, random_state=0)\n",
        "    \n",
        "# Train models\n",
        "model_0 = ElasticNet()\n",
        "start_time = time.time()\n",
        "model_0.fit(X_train, y_train)\n",
        "t0 = time.time() - start_time\n",
        "\n",
        "model_1 = ElasticNetFromScratch(n_iterations=int(1e6), learning_rate=1e-6, alpha=1, l1_ratio=0)\n",
        "start_time = time.time()\n",
        "model_1.fit(X_train, y_train, method='batch descent')\n",
        "t1 = time.time() - start_time\n",
        "\n",
        "model_2 = ElasticNetFromScratch(n_iterations=int(1e6), learning_rate=1e-6, alpha=1, l1_ratio=0)\n",
        "start_time = time.time()\n",
        "model_2.fit(X_train, y_train, method='mini-batch descent')\n",
        "t2 = time.time() - start_time\n",
        "\n",
        "model_3 = ElasticNetFromScratch(n_iterations=int(1e6), learning_rate=1e-6, alpha=1, l1_ratio=0)\n",
        "start_time = time.time()\n",
        "model_3.fit(X_train, y_train, method='stochastic descent')\n",
        "t3 = time.time() - start_time\n",
        "\n",
        "model_4 = ElasticNetFromScratch()\n",
        "start_time = time.time()\n",
        "model_4.fit(X_train, y_train, method='normal equation')\n",
        "t4 = time.time() - start_time\n",
        "\n",
        "model_5 = ElasticNetFromScratch(n_iterations=int(1e6), learning_rate=1e-6, alpha=1, l1_ratio=0.5)\n",
        "start_time = time.time()\n",
        "model_5.fit(X_train, y_train, method='batch descent')\n",
        "t5 = time.time() - start_time\n",
        "\n",
        "# Evaluate models\n",
        "y_test_pred_0 = model_0.predict(X_test)\n",
        "y_test_pred_0 = np.where(y_test_pred_0 < 0, 0, y_test_pred_0)\n",
        "print('RMSLE (sklearn):', np.round(np.sqrt(mean_squared_log_error(y_test, y_test_pred_0)), 2))\n",
        "print('Runtime:', round(t0, 2), 's')\n",
        "\n",
        "y_test_pred_1 = model_1.predict(X_test)\n",
        "y_test_pred_1 = np.where(y_test_pred_1 < 0, 0, y_test_pred_1)\n",
        "print('\\nRMSLE (from scratch - Batch Gradient Descent):', np.round(np.sqrt(mean_squared_log_error(y_test, y_test_pred_1)), 2))\n",
        "print('Runtime:', round(t1, 2), 's')\n",
        "\n",
        "y_test_pred_2 = model_2.predict(X_test)\n",
        "y_test_pred_2 = np.where(y_test_pred_2 < 0, 0, y_test_pred_2)\n",
        "print('\\nRMSLE (from scratch - Mini-Batch Gradient Descent):', np.round(np.sqrt(mean_squared_log_error(y_test, y_test_pred_2)), 2))\n",
        "print('Runtime:', round(t2, 2), 's')\n",
        "\n",
        "y_test_pred_3 = model_3.predict(X_test)\n",
        "y_test_pred_3 = np.where(y_test_pred_3 < 0, 0, y_test_pred_3)\n",
        "print('\\nRMSLE (from scratch - Stochastic Gradient Descent):', np.round(np.sqrt(mean_squared_log_error(y_test, y_test_pred_3)), 2))\n",
        "print('Runtime:', round(t3, 2), 's')\n",
        "\n",
        "y_test_pred_4 = model_4.predict(X_test)\n",
        "y_test_pred_4 = np.where(y_test_pred_4 < 0, 0, y_test_pred_4)\n",
        "print('\\nRMSLE (from scratch - Normal Equation):', np.round(np.sqrt(mean_squared_log_error(y_test, y_test_pred_4)), 2))\n",
        "print('Runtime:', round(t4, 2), 's')\n",
        "\n",
        "y_test_pred_5 = model_5.predict(X_test)\n",
        "y_test_pred_5 = np.where(y_test_pred_5 < 0, 0, y_test_pred_5)\n",
        "print('\\nRMSLE (from scratch - Elastic-Net):', np.round(np.sqrt(mean_squared_log_error(y_test, y_test_pred_5)), 2))\n",
        "print('Runtime:', round(t5, 2), 's')"
      ],
      "execution_count": 59,
      "outputs": [
        {
          "output_type": "stream",
          "text": [
            "RMSLE (sklearn): 0.29\n",
            "Runtime: 0.0 s\n",
            "\n",
            "RMSLE (from scratch - Batch Gradient Descent): 0.32\n",
            "Runtime: 42.74 s\n",
            "\n",
            "RMSLE (from scratch - Mini-Batch Gradient Descent): 0.34\n",
            "Runtime: 102.79 s\n",
            "\n",
            "RMSLE (from scratch - Stochastic Gradient Descent): 0.32\n",
            "Runtime: 80.68 s\n",
            "\n",
            "RMSLE (from scratch - Normal Equation): 0.32\n",
            "Runtime: 0.01 s\n",
            "\n",
            "RMSLE (from scratch - Elastic-Net): 0.32\n",
            "Runtime: 41.92 s\n"
          ],
          "name": "stdout"
        }
      ]
    },
    {
      "cell_type": "markdown",
      "metadata": {
        "id": "bba8horzHin6"
      },
      "source": [
        "## Gradient Descent of cost function"
      ]
    },
    {
      "cell_type": "markdown",
      "metadata": {
        "id": "BlZ31snRSqxz"
      },
      "source": [
        "### Batch Gradient/Coordinate Descent"
      ]
    },
    {
      "cell_type": "code",
      "metadata": {
        "colab": {
          "base_uri": "https://localhost:8080/",
          "height": 295
        },
        "id": "Ojw4ekGaFo3C",
        "outputId": "e9c9aefd-6f2c-407f-90b5-97cfda94cf53"
      },
      "source": [
        "# Plot cost function\n",
        "pd.Series(model_1.J).plot()"
      ],
      "execution_count": 49,
      "outputs": [
        {
          "output_type": "execute_result",
          "data": {
            "text/plain": [
              "<matplotlib.axes._subplots.AxesSubplot at 0x7f2237add0b8>"
            ]
          },
          "metadata": {
            "tags": []
          },
          "execution_count": 49
        },
        {
          "output_type": "display_data",
          "data": {
            "image/png": "[encoded data removed]",
            "text/plain": [
              "<Figure size 432x288 with 1 Axes>"
            ]
          },
          "metadata": {
            "tags": [],
            "needs_background": "light"
          }
        }
      ]
    },
    {
      "cell_type": "markdown",
      "metadata": {
        "id": "50klvIOlTUUa"
      },
      "source": [
        "### Mini-Batch Gradient/Coordinate Descent"
      ]
    },
    {
      "cell_type": "code",
      "metadata": {
        "colab": {
          "base_uri": "https://localhost:8080/",
          "height": 295
        },
        "id": "vcmz2HuRTWM4",
        "outputId": "e6b8c0a4-85d3-4ec3-a00b-f5fce34ae58b"
      },
      "source": [
        "# Plot cost function\n",
        "pd.Series(model_2.J).plot()"
      ],
      "execution_count": 50,
      "outputs": [
        {
          "output_type": "execute_result",
          "data": {
            "text/plain": [
              "<matplotlib.axes._subplots.AxesSubplot at 0x7f2237add630>"
            ]
          },
          "metadata": {
            "tags": []
          },
          "execution_count": 50
        },
        {
          "output_type": "display_data",
          "data": {
            "image/png": "[encoded data removed]",
            "text/plain": [
              "<Figure size 432x288 with 1 Axes>"
            ]
          },
          "metadata": {
            "tags": [],
            "needs_background": "light"
          }
        }
      ]
    },
    {
      "cell_type": "markdown",
      "metadata": {
        "id": "VvYTCC04TZpl"
      },
      "source": [
        "### Stochastic Gradient/Coordinate Descent"
      ]
    },
    {
      "cell_type": "code",
      "metadata": {
        "colab": {
          "base_uri": "https://localhost:8080/",
          "height": 295
        },
        "id": "G2LgobjNTaJf",
        "outputId": "343c07ba-ce9c-4c42-b4c2-85bcf948e41a"
      },
      "source": [
        "# Plot cost function\n",
        "pd.Series(model_3.J).plot()"
      ],
      "execution_count": 51,
      "outputs": [
        {
          "output_type": "execute_result",
          "data": {
            "text/plain": [
              "<matplotlib.axes._subplots.AxesSubplot at 0x7f223787edd8>"
            ]
          },
          "metadata": {
            "tags": []
          },
          "execution_count": 51
        },
        {
          "output_type": "display_data",
          "data": {
            "image/png": "[encoded data removed]",
            "text/plain": [
              "<Figure size 432x288 with 1 Axes>"
            ]
          },
          "metadata": {
            "tags": [],
            "needs_background": "light"
          }
        }
      ]
    },
    {
      "cell_type": "markdown",
      "metadata": {
        "id": "InmMGODyvCOx"
      },
      "source": [
        "### Elastic-Net"
      ]
    },
    {
      "cell_type": "code",
      "metadata": {
        "id": "u_qV7Xh2vEqc",
        "colab": {
          "base_uri": "https://localhost:8080/",
          "height": 295
        },
        "outputId": "56a8bf62-f599-489f-8406-6ee196b2b4bb"
      },
      "source": [
        "# Plot cost function\n",
        "pd.Series(model_5.J).plot()"
      ],
      "execution_count": 52,
      "outputs": [
        {
          "output_type": "execute_result",
          "data": {
            "text/plain": [
              "<matplotlib.axes._subplots.AxesSubplot at 0x7f2237826198>"
            ]
          },
          "metadata": {
            "tags": []
          },
          "execution_count": 52
        },
        {
          "output_type": "display_data",
          "data": {
            "image/png": "[encoded data removed]",
            "text/plain": [
              "<Figure size 432x288 with 1 Axes>"
            ]
          },
          "metadata": {
            "tags": [],
            "needs_background": "light"
          }
        }
      ]
    },
    {
      "cell_type": "code",
      "metadata": {
        "id": "EIUX5TYXWNu6"
      },
      "source": [
        ""
      ],
      "execution_count": 52,
      "outputs": []
    }
  ]
}